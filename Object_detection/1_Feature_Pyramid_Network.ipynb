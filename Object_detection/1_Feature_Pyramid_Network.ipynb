{
  "nbformat": 4,
  "nbformat_minor": 0,
  "metadata": {
    "colab": {
      "provenance": [],
      "gpuType": "T4"
    },
    "kernelspec": {
      "name": "python3",
      "display_name": "Python 3"
    },
    "language_info": {
      "name": "python"
    },
    "accelerator": "GPU"
  },
  "cells": [
    {
      "cell_type": "code",
      "execution_count": 1,
      "metadata": {
        "id": "3oIQCWdrveGP"
      },
      "outputs": [],
      "source": [
        "import torch\n",
        "import torch.nn as nn\n",
        "import torch.optim as optim\n",
        "import torch.nn.functional as F\n",
        "from torchvision import datasets, transforms, models\n",
        "from torch.utils.data import DataLoader"
      ]
    },
    {
      "cell_type": "code",
      "source": [
        "# Data Preprocessing\n",
        "transform = transforms.Compose([transforms.ToTensor(),\n",
        "                                transforms.Normalize((0.5,), (0.5,))\n",
        "                                ])"
      ],
      "metadata": {
        "id": "EDktoL2GYmV8"
      },
      "execution_count": 2,
      "outputs": []
    },
    {
      "cell_type": "code",
      "source": [
        "train_dataset = datasets.MNIST(root='./data', train=True, transform=transform, download=True)\n",
        "test_dataset = datasets.MNIST(root='./data', train=False, transform=transform, download=True)"
      ],
      "metadata": {
        "colab": {
          "base_uri": "https://localhost:8080/"
        },
        "id": "u6Mj6xiNY-Fd",
        "outputId": "9dee9a02-553f-47fb-f525-d0dd4e5064e1"
      },
      "execution_count": 4,
      "outputs": [
        {
          "output_type": "stream",
          "name": "stdout",
          "text": [
            "Downloading http://yann.lecun.com/exdb/mnist/train-images-idx3-ubyte.gz\n",
            "Failed to download (trying next):\n",
            "HTTP Error 404: Not Found\n",
            "\n",
            "Downloading https://ossci-datasets.s3.amazonaws.com/mnist/train-images-idx3-ubyte.gz\n",
            "Downloading https://ossci-datasets.s3.amazonaws.com/mnist/train-images-idx3-ubyte.gz to ./data/MNIST/raw/train-images-idx3-ubyte.gz\n"
          ]
        },
        {
          "output_type": "stream",
          "name": "stderr",
          "text": [
            "100%|██████████| 9.91M/9.91M [00:00<00:00, 16.3MB/s]\n"
          ]
        },
        {
          "output_type": "stream",
          "name": "stdout",
          "text": [
            "Extracting ./data/MNIST/raw/train-images-idx3-ubyte.gz to ./data/MNIST/raw\n",
            "\n",
            "Downloading http://yann.lecun.com/exdb/mnist/train-labels-idx1-ubyte.gz\n",
            "Failed to download (trying next):\n",
            "HTTP Error 404: Not Found\n",
            "\n",
            "Downloading https://ossci-datasets.s3.amazonaws.com/mnist/train-labels-idx1-ubyte.gz\n",
            "Downloading https://ossci-datasets.s3.amazonaws.com/mnist/train-labels-idx1-ubyte.gz to ./data/MNIST/raw/train-labels-idx1-ubyte.gz\n"
          ]
        },
        {
          "output_type": "stream",
          "name": "stderr",
          "text": [
            "100%|██████████| 28.9k/28.9k [00:00<00:00, 489kB/s]\n"
          ]
        },
        {
          "output_type": "stream",
          "name": "stdout",
          "text": [
            "Extracting ./data/MNIST/raw/train-labels-idx1-ubyte.gz to ./data/MNIST/raw\n",
            "\n",
            "Downloading http://yann.lecun.com/exdb/mnist/t10k-images-idx3-ubyte.gz\n",
            "Failed to download (trying next):\n",
            "HTTP Error 404: Not Found\n",
            "\n",
            "Downloading https://ossci-datasets.s3.amazonaws.com/mnist/t10k-images-idx3-ubyte.gz\n",
            "Downloading https://ossci-datasets.s3.amazonaws.com/mnist/t10k-images-idx3-ubyte.gz to ./data/MNIST/raw/t10k-images-idx3-ubyte.gz\n"
          ]
        },
        {
          "output_type": "stream",
          "name": "stderr",
          "text": [
            "100%|██████████| 1.65M/1.65M [00:00<00:00, 4.48MB/s]\n"
          ]
        },
        {
          "output_type": "stream",
          "name": "stdout",
          "text": [
            "Extracting ./data/MNIST/raw/t10k-images-idx3-ubyte.gz to ./data/MNIST/raw\n",
            "\n",
            "Downloading http://yann.lecun.com/exdb/mnist/t10k-labels-idx1-ubyte.gz\n",
            "Failed to download (trying next):\n",
            "HTTP Error 404: Not Found\n",
            "\n",
            "Downloading https://ossci-datasets.s3.amazonaws.com/mnist/t10k-labels-idx1-ubyte.gz\n",
            "Downloading https://ossci-datasets.s3.amazonaws.com/mnist/t10k-labels-idx1-ubyte.gz to ./data/MNIST/raw/t10k-labels-idx1-ubyte.gz\n"
          ]
        },
        {
          "output_type": "stream",
          "name": "stderr",
          "text": [
            "100%|██████████| 4.54k/4.54k [00:00<00:00, 5.75MB/s]"
          ]
        },
        {
          "output_type": "stream",
          "name": "stdout",
          "text": [
            "Extracting ./data/MNIST/raw/t10k-labels-idx1-ubyte.gz to ./data/MNIST/raw\n",
            "\n"
          ]
        },
        {
          "output_type": "stream",
          "name": "stderr",
          "text": [
            "\n"
          ]
        }
      ]
    },
    {
      "cell_type": "code",
      "source": [
        "train_loader = DataLoader(train_dataset, batch_size=64, shuffle=True)\n",
        "test_loader = DataLoader(test_dataset, batch_size=64, shuffle=False)"
      ],
      "metadata": {
        "id": "2n3hUGquZ-DW"
      },
      "execution_count": 5,
      "outputs": []
    },
    {
      "cell_type": "code",
      "source": [
        "import matplotlib.pyplot as plt"
      ],
      "metadata": {
        "id": "cU_lQUdvZEwG"
      },
      "execution_count": 6,
      "outputs": []
    },
    {
      "cell_type": "code",
      "source": [
        "# Visualizing a few images from the dataset\n",
        "def show_images(loader):\n",
        "    images, labels = next(iter(loader))\n",
        "    print(images.shape)\n",
        "    fig, axes = plt.subplots(1, 5, figsize=(10, 2))\n",
        "    for i in range(5):\n",
        "        img = images[i].squeeze(0).numpy()\n",
        "        axes[i].imshow(img, cmap='gray')\n",
        "        axes[i].set_title(f'Label: {labels[i].item()}')\n",
        "        axes[i].axis('off')\n",
        "    plt.show()"
      ],
      "metadata": {
        "id": "IXY4AGbQZSy-"
      },
      "execution_count": 7,
      "outputs": []
    },
    {
      "cell_type": "code",
      "source": [
        "show_images(train_loader)"
      ],
      "metadata": {
        "colab": {
          "base_uri": "https://localhost:8080/",
          "height": 210
        },
        "id": "Wi0uf6mHZhLu",
        "outputId": "e56f2afc-8e15-4f9f-b674-8bdf762659fc"
      },
      "execution_count": 8,
      "outputs": [
        {
          "output_type": "stream",
          "name": "stdout",
          "text": [
            "torch.Size([64, 1, 28, 28])\n"
          ]
        },
        {
          "output_type": "display_data",
          "data": {
            "text/plain": [
              "<Figure size 1000x200 with 5 Axes>"
            ],
            "image/png": "[encoded data removed]"
          },
          "metadata": {}
        }
      ]
    },
    {
      "cell_type": "code",
      "source": [
        "from torchsummary import summary\n",
        "\n",
        "device = torch.device(\"cuda\" if torch.cuda.is_available() else \"cpu\")\n"
      ],
      "metadata": {
        "id": "f-ZW6yqbZ5vW"
      },
      "execution_count": 9,
      "outputs": []
    },
    {
      "cell_type": "code",
      "source": [
        "print(device)"
      ],
      "metadata": {
        "colab": {
          "base_uri": "https://localhost:8080/"
        },
        "id": "bRMDUoTzajcg",
        "outputId": "9ec332ef-1da7-45fb-b314-80067570a3a5"
      },
      "execution_count": 10,
      "outputs": [
        {
          "output_type": "stream",
          "name": "stdout",
          "text": [
            "cuda\n"
          ]
        }
      ]
    },
    {
      "cell_type": "code",
      "source": [
        "resnet = models.resnet18().to(device)    # Import ResNet 18\n",
        "summary(resnet, (3, 224, 224))           # Shows summery of ResNet for given shape of input"
      ],
      "metadata": {
        "colab": {
          "base_uri": "https://localhost:8080/"
        },
        "id": "09ISCizqanzo",
        "outputId": "28ac4839-06dd-4b40-bf29-f1025d3c046e"
      },
      "execution_count": 11,
      "outputs": [
        {
          "output_type": "stream",
          "name": "stdout",
          "text": [
            "----------------------------------------------------------------\n",
            "        Layer (type)               Output Shape         Param #\n",
            "================================================================\n",
            "            Conv2d-1         [-1, 64, 112, 112]           9,408\n",
            "       BatchNorm2d-2         [-1, 64, 112, 112]             128\n",
            "              ReLU-3         [-1, 64, 112, 112]               0\n",
            "         MaxPool2d-4           [-1, 64, 56, 56]               0\n",
            "            Conv2d-5           [-1, 64, 56, 56]          36,864\n",
            "       BatchNorm2d-6           [-1, 64, 56, 56]             128\n",
            "              ReLU-7           [-1, 64, 56, 56]               0\n",
            "            Conv2d-8           [-1, 64, 56, 56]          36,864\n",
            "       BatchNorm2d-9           [-1, 64, 56, 56]             128\n",
            "             ReLU-10           [-1, 64, 56, 56]               0\n",
            "       BasicBlock-11           [-1, 64, 56, 56]               0\n",
            "           Conv2d-12           [-1, 64, 56, 56]          36,864\n",
            "      BatchNorm2d-13           [-1, 64, 56, 56]             128\n",
            "             ReLU-14           [-1, 64, 56, 56]               0\n",
            "           Conv2d-15           [-1, 64, 56, 56]          36,864\n",
            "      BatchNorm2d-16           [-1, 64, 56, 56]             128\n",
            "             ReLU-17           [-1, 64, 56, 56]               0\n",
            "       BasicBlock-18           [-1, 64, 56, 56]               0\n",
            "           Conv2d-19          [-1, 128, 28, 28]          73,728\n",
            "      BatchNorm2d-20          [-1, 128, 28, 28]             256\n",
            "             ReLU-21          [-1, 128, 28, 28]               0\n",
            "           Conv2d-22          [-1, 128, 28, 28]         147,456\n",
            "      BatchNorm2d-23          [-1, 128, 28, 28]             256\n",
            "           Conv2d-24          [-1, 128, 28, 28]           8,192\n",
            "      BatchNorm2d-25          [-1, 128, 28, 28]             256\n",
            "             ReLU-26          [-1, 128, 28, 28]               0\n",
            "       BasicBlock-27          [-1, 128, 28, 28]               0\n",
            "           Conv2d-28          [-1, 128, 28, 28]         147,456\n",
            "      BatchNorm2d-29          [-1, 128, 28, 28]             256\n",
            "             ReLU-30          [-1, 128, 28, 28]               0\n",
            "           Conv2d-31          [-1, 128, 28, 28]         147,456\n",
            "      BatchNorm2d-32          [-1, 128, 28, 28]             256\n",
            "             ReLU-33          [-1, 128, 28, 28]               0\n",
            "       BasicBlock-34          [-1, 128, 28, 28]               0\n",
            "           Conv2d-35          [-1, 256, 14, 14]         294,912\n",
            "      BatchNorm2d-36          [-1, 256, 14, 14]             512\n",
            "             ReLU-37          [-1, 256, 14, 14]               0\n",
            "           Conv2d-38          [-1, 256, 14, 14]         589,824\n",
            "      BatchNorm2d-39          [-1, 256, 14, 14]             512\n",
            "           Conv2d-40          [-1, 256, 14, 14]          32,768\n",
            "      BatchNorm2d-41          [-1, 256, 14, 14]             512\n",
            "             ReLU-42          [-1, 256, 14, 14]               0\n",
            "       BasicBlock-43          [-1, 256, 14, 14]               0\n",
            "           Conv2d-44          [-1, 256, 14, 14]         589,824\n",
            "      BatchNorm2d-45          [-1, 256, 14, 14]             512\n",
            "             ReLU-46          [-1, 256, 14, 14]               0\n",
            "           Conv2d-47          [-1, 256, 14, 14]         589,824\n",
            "      BatchNorm2d-48          [-1, 256, 14, 14]             512\n",
            "             ReLU-49          [-1, 256, 14, 14]               0\n",
            "       BasicBlock-50          [-1, 256, 14, 14]               0\n",
            "           Conv2d-51            [-1, 512, 7, 7]       1,179,648\n",
            "      BatchNorm2d-52            [-1, 512, 7, 7]           1,024\n",
            "             ReLU-53            [-1, 512, 7, 7]               0\n",
            "           Conv2d-54            [-1, 512, 7, 7]       2,359,296\n",
            "      BatchNorm2d-55            [-1, 512, 7, 7]           1,024\n",
            "           Conv2d-56            [-1, 512, 7, 7]         131,072\n",
            "      BatchNorm2d-57            [-1, 512, 7, 7]           1,024\n",
            "             ReLU-58            [-1, 512, 7, 7]               0\n",
            "       BasicBlock-59            [-1, 512, 7, 7]               0\n",
            "           Conv2d-60            [-1, 512, 7, 7]       2,359,296\n",
            "      BatchNorm2d-61            [-1, 512, 7, 7]           1,024\n",
            "             ReLU-62            [-1, 512, 7, 7]               0\n",
            "           Conv2d-63            [-1, 512, 7, 7]       2,359,296\n",
            "      BatchNorm2d-64            [-1, 512, 7, 7]           1,024\n",
            "             ReLU-65            [-1, 512, 7, 7]               0\n",
            "       BasicBlock-66            [-1, 512, 7, 7]               0\n",
            "AdaptiveAvgPool2d-67            [-1, 512, 1, 1]               0\n",
            "           Linear-68                 [-1, 1000]         513,000\n",
            "================================================================\n",
            "Total params: 11,689,512\n",
            "Trainable params: 11,689,512\n",
            "Non-trainable params: 0\n",
            "----------------------------------------------------------------\n",
            "Input size (MB): 0.57\n",
            "Forward/backward pass size (MB): 62.79\n",
            "Params size (MB): 44.59\n",
            "Estimated Total Size (MB): 107.96\n",
            "----------------------------------------------------------------\n"
          ]
        }
      ]
    },
    {
      "cell_type": "markdown",
      "source": [
        "Here we are going to use ResNet18 as backbone architecture.\n",
        "\n",
        "1. We will remove last 2 layers of ResNet (AdaptiveAvgPool2d and Linear)"
      ],
      "metadata": {
        "id": "xJyX4bJeF8On"
      }
    },
    {
      "cell_type": "code",
      "source": [
        "resnet = models.resnet18(pretrained=True)\n",
        "all = nn.Sequential(*list(resnet.children())[:-2])"
      ],
      "metadata": {
        "colab": {
          "base_uri": "https://localhost:8080/"
        },
        "id": "Y-3i53F9b8hW",
        "outputId": "386f4dc4-421c-4d5e-e6d3-f4bbd00c9ba8"
      },
      "execution_count": 12,
      "outputs": [
        {
          "output_type": "stream",
          "name": "stderr",
          "text": [
            "/usr/local/lib/python3.11/dist-packages/torchvision/models/_utils.py:208: UserWarning: The parameter 'pretrained' is deprecated since 0.13 and may be removed in the future, please use 'weights' instead.\n",
            "  warnings.warn(\n",
            "/usr/local/lib/python3.11/dist-packages/torchvision/models/_utils.py:223: UserWarning: Arguments other than a weight enum or `None` for 'weights' are deprecated since 0.13 and may be removed in the future. The current behavior is equivalent to passing `weights=ResNet18_Weights.IMAGENET1K_V1`. You can also use `weights=ResNet18_Weights.DEFAULT` to get the most up-to-date weights.\n",
            "  warnings.warn(msg)\n",
            "Downloading: \"https://download.pytorch.org/models/resnet18-f37072fd.pth\" to /root/.cache/torch/hub/checkpoints/resnet18-f37072fd.pth\n",
            "100%|██████████| 44.7M/44.7M [00:00<00:00, 162MB/s]\n"
          ]
        }
      ]
    },
    {
      "cell_type": "code",
      "source": [
        "print(all[0:0])  # Print first 7 layers.\n",
        "print(\"===\"*20)\n",
        "print(all[0:1])\n",
        "print(\"===\"*20)\n",
        "print(all[1:2])\n",
        "print(\"===\"*20)\n",
        "print(all[2:3])\n",
        "print(\"===\"*20)\n",
        "print(all[3:4])\n",
        "print(\"===\"*20)\n",
        "print(all[4:5])\n",
        "print(\"===\"*20)\n",
        "print(all[5:6])\n",
        "print(\"===\"*20)\n",
        "print(all[6:7])\n",
        "print(\"===\"*20)"
      ],
      "metadata": {
        "colab": {
          "base_uri": "https://localhost:8080/"
        },
        "id": "2KUFcGAYcHib",
        "outputId": "ea913208-b31c-41fc-9e3b-419984e7e5c5"
      },
      "execution_count": 13,
      "outputs": [
        {
          "output_type": "stream",
          "name": "stdout",
          "text": [
            "Sequential()\n",
            "============================================================\n",
            "Sequential(\n",
            "  (0): Conv2d(3, 64, kernel_size=(7, 7), stride=(2, 2), padding=(3, 3), bias=False)\n",
            ")\n",
            "============================================================\n",
            "Sequential(\n",
            "  (1): BatchNorm2d(64, eps=1e-05, momentum=0.1, affine=True, track_running_stats=True)\n",
            ")\n",
            "============================================================\n",
            "Sequential(\n",
            "  (2): ReLU(inplace=True)\n",
            ")\n",
            "============================================================\n",
            "Sequential(\n",
            "  (3): MaxPool2d(kernel_size=3, stride=2, padding=1, dilation=1, ceil_mode=False)\n",
            ")\n",
            "============================================================\n",
            "Sequential(\n",
            "  (4): Sequential(\n",
            "    (0): BasicBlock(\n",
            "      (conv1): Conv2d(64, 64, kernel_size=(3, 3), stride=(1, 1), padding=(1, 1), bias=False)\n",
            "      (bn1): BatchNorm2d(64, eps=1e-05, momentum=0.1, affine=True, track_running_stats=True)\n",
            "      (relu): ReLU(inplace=True)\n",
            "      (conv2): Conv2d(64, 64, kernel_size=(3, 3), stride=(1, 1), padding=(1, 1), bias=False)\n",
            "      (bn2): BatchNorm2d(64, eps=1e-05, momentum=0.1, affine=True, track_running_stats=True)\n",
            "    )\n",
            "    (1): BasicBlock(\n",
            "      (conv1): Conv2d(64, 64, kernel_size=(3, 3), stride=(1, 1), padding=(1, 1), bias=False)\n",
            "      (bn1): BatchNorm2d(64, eps=1e-05, momentum=0.1, affine=True, track_running_stats=True)\n",
            "      (relu): ReLU(inplace=True)\n",
            "      (conv2): Conv2d(64, 64, kernel_size=(3, 3), stride=(1, 1), padding=(1, 1), bias=False)\n",
            "      (bn2): BatchNorm2d(64, eps=1e-05, momentum=0.1, affine=True, track_running_stats=True)\n",
            "    )\n",
            "  )\n",
            ")\n",
            "============================================================\n",
            "Sequential(\n",
            "  (5): Sequential(\n",
            "    (0): BasicBlock(\n",
            "      (conv1): Conv2d(64, 128, kernel_size=(3, 3), stride=(2, 2), padding=(1, 1), bias=False)\n",
            "      (bn1): BatchNorm2d(128, eps=1e-05, momentum=0.1, affine=True, track_running_stats=True)\n",
            "      (relu): ReLU(inplace=True)\n",
            "      (conv2): Conv2d(128, 128, kernel_size=(3, 3), stride=(1, 1), padding=(1, 1), bias=False)\n",
            "      (bn2): BatchNorm2d(128, eps=1e-05, momentum=0.1, affine=True, track_running_stats=True)\n",
            "      (downsample): Sequential(\n",
            "        (0): Conv2d(64, 128, kernel_size=(1, 1), stride=(2, 2), bias=False)\n",
            "        (1): BatchNorm2d(128, eps=1e-05, momentum=0.1, affine=True, track_running_stats=True)\n",
            "      )\n",
            "    )\n",
            "    (1): BasicBlock(\n",
            "      (conv1): Conv2d(128, 128, kernel_size=(3, 3), stride=(1, 1), padding=(1, 1), bias=False)\n",
            "      (bn1): BatchNorm2d(128, eps=1e-05, momentum=0.1, affine=True, track_running_stats=True)\n",
            "      (relu): ReLU(inplace=True)\n",
            "      (conv2): Conv2d(128, 128, kernel_size=(3, 3), stride=(1, 1), padding=(1, 1), bias=False)\n",
            "      (bn2): BatchNorm2d(128, eps=1e-05, momentum=0.1, affine=True, track_running_stats=True)\n",
            "    )\n",
            "  )\n",
            ")\n",
            "============================================================\n",
            "Sequential(\n",
            "  (6): Sequential(\n",
            "    (0): BasicBlock(\n",
            "      (conv1): Conv2d(128, 256, kernel_size=(3, 3), stride=(2, 2), padding=(1, 1), bias=False)\n",
            "      (bn1): BatchNorm2d(256, eps=1e-05, momentum=0.1, affine=True, track_running_stats=True)\n",
            "      (relu): ReLU(inplace=True)\n",
            "      (conv2): Conv2d(256, 256, kernel_size=(3, 3), stride=(1, 1), padding=(1, 1), bias=False)\n",
            "      (bn2): BatchNorm2d(256, eps=1e-05, momentum=0.1, affine=True, track_running_stats=True)\n",
            "      (downsample): Sequential(\n",
            "        (0): Conv2d(128, 256, kernel_size=(1, 1), stride=(2, 2), bias=False)\n",
            "        (1): BatchNorm2d(256, eps=1e-05, momentum=0.1, affine=True, track_running_stats=True)\n",
            "      )\n",
            "    )\n",
            "    (1): BasicBlock(\n",
            "      (conv1): Conv2d(256, 256, kernel_size=(3, 3), stride=(1, 1), padding=(1, 1), bias=False)\n",
            "      (bn1): BatchNorm2d(256, eps=1e-05, momentum=0.1, affine=True, track_running_stats=True)\n",
            "      (relu): ReLU(inplace=True)\n",
            "      (conv2): Conv2d(256, 256, kernel_size=(3, 3), stride=(1, 1), padding=(1, 1), bias=False)\n",
            "      (bn2): BatchNorm2d(256, eps=1e-05, momentum=0.1, affine=True, track_running_stats=True)\n",
            "    )\n",
            "  )\n",
            ")\n",
            "============================================================\n"
          ]
        }
      ]
    },
    {
      "cell_type": "markdown",
      "source": [
        "### Without p3, p4, p5 concat"
      ],
      "metadata": {
        "id": "JMONM1QhvXJX"
      }
    },
    {
      "cell_type": "code",
      "source": [
        "class FPN1(nn.Module):\n",
        "  def __init__(self):\n",
        "    super().__init__()\n",
        "\n",
        "    resnet = models.resnet18(pretrained=True)\n",
        "    # 3, 64, kernel_size=(7, 7), stride=(2, 2), padding=(3, 3), bias=False)\n",
        "    resnet.conv1 = nn.Conv2d(1, 64, kernel_size=7, stride=2, padding=3, bias=False)\n",
        "    self.backbone = nn.Sequential(*list(resnet.children())[:-2])     # ResNet as backbone\n",
        "\n",
        "    self.p5_1x1 = nn.Conv2d(512, 256, kernel_size=1)  # Define 1X1 conv layers to make equal number of featuremaps\n",
        "    self.p4_1x1 = nn.Conv2d(256, 256, kernel_size=1)\n",
        "    self.p3_1x1 = nn.Conv2d(128, 256, kernel_size=1)\n",
        "\n",
        "    self.classifier = nn.Linear(256 * 4 * 4, 10)\n",
        "\n",
        "  def forward(self, x):\n",
        "    c3, c4, c5 = self.backbone[:6](x), self.backbone[:7](x), self.backbone(x)\n",
        "    # 128, 256, 512\n",
        "\n",
        "    # 1x1\n",
        "    p5 = self.p5_1x1(c5)\n",
        "    p4 = self.p4_1x1(c4) + F.interpolate(p5, scale_factor=2, mode='nearest')  #Featuremap concatination\n",
        "    p3 = self.p3_1x1(c3) + F.interpolate(p4, scale_factor=2, mode='nearest')\n",
        "\n",
        "    out = F.adaptive_avg_pool2d(p5, (4, 4))\n",
        "    out = torch.flatten(out, 1)\n",
        "    out = self.classifier(out)\n",
        "\n",
        "    return out\n"
      ],
      "metadata": {
        "id": "XWJF00bdcM6L"
      },
      "execution_count": 14,
      "outputs": []
    },
    {
      "cell_type": "markdown",
      "source": [
        "### With p3, p4, p5 concat"
      ],
      "metadata": {
        "id": "Hj_ynNT9vTe_"
      }
    },
    {
      "cell_type": "code",
      "source": [
        "class FPN2(nn.Module):\n",
        "    def __init__(self):\n",
        "        super().__init__()\n",
        "\n",
        "        resnet = models.resnet18(pretrained=True)  # Takes 3 input channels (RGB)\n",
        "        resnet.conv1 = nn.Conv2d(1, 64, kernel_size=7, stride=2, padding=3, bias=False)  # Change input channels to 1\n",
        "\n",
        "        self.backbone = nn.Sequential(*list(resnet.children())[:-2])  # Remove FC layer\n",
        "\n",
        "        # Feature Pyramid Layers\n",
        "        self.p5_1x1 = nn.Conv2d(512, 256, kernel_size=1)\n",
        "        self.p4_1x1 = nn.Conv2d(256, 256, kernel_size=1)\n",
        "        self.p3_1x1 = nn.Conv2d(128, 256, kernel_size=1)\n",
        "\n",
        "        # 3x3 Convolutions\n",
        "        self.p4_out = nn.Conv2d(256, 256, kernel_size=3, padding=1)\n",
        "        self.p3_out = nn.Conv2d(256, 256, kernel_size=3, padding=1)\n",
        "\n",
        "        # Classification Head\n",
        "        # * 3 is for p3 , p4, p5\n",
        "        #  4 * 4 is global pooling\n",
        "        self.classifier = nn.Linear(256 * 3 * 4 * 4, 10)  # 256 * 3 channels after concatenation\n",
        "\n",
        "    def forward(self, x):\n",
        "        c3, c4, c5 = self.backbone[:6](x), self.backbone[:7](x), self.backbone(x)\n",
        "\n",
        "        # 1x1 Convolutions for channel consistency\n",
        "        p5 = self.p5_1x1(c5)\n",
        "        p4 = self.p4_1x1(c4) + F.interpolate(p5, size=c4.shape[2:], mode='nearest')\n",
        "        p3 = self.p3_1x1(c3) + F.interpolate(p4, size=c3.shape[2:], mode='nearest')\n",
        "\n",
        "        # Ensure `p5` is upsampled before applying 3x3 conv\n",
        "        p5_up = F.interpolate(p5, size=p3.shape[2:], mode='nearest')\n",
        "        p5 = self.p4_out(p5_up)  # Now it's safe to apply 3x3 conv\n",
        "\n",
        "        p4 = self.p4_out(p4)\n",
        "        p3 = self.p3_out(p3)\n",
        "\n",
        "        # Upsample all feature maps to the same size\n",
        "        p4_up = F.interpolate(p4, size=p3.shape[2:], mode='nearest')\n",
        "\n",
        "        # Concatenate along the channel dimension\n",
        "        combined_features = torch.cat([p3, p4_up, p5], dim=1)  # (Batch, 256 * 3, H, W)\n",
        "\n",
        "        # Global Average Pooling to (4,4)\n",
        "        out = F.adaptive_avg_pool2d(combined_features, (4, 4)) ## 4x4x256 --> Iw x Ih X Ch\n",
        "        out = torch.flatten(out, 1)\n",
        "        out = self.classifier(out)\n",
        "\n",
        "        return out"
      ],
      "metadata": {
        "id": "hUZST2QKvLw_"
      },
      "execution_count": 15,
      "outputs": []
    },
    {
      "cell_type": "code",
      "source": [
        "# Model, Loss, Optimizer\n",
        "device = torch.device(\"cuda\" if torch.cuda.is_available() else \"cpu\")\n",
        "model = FPN1().to(device)\n",
        "criterion = nn.CrossEntropyLoss()\n",
        "optimizer = optim.Adam(model.parameters(), lr=0.001)"
      ],
      "metadata": {
        "id": "5xaHANZceMIU"
      },
      "execution_count": 16,
      "outputs": []
    },
    {
      "cell_type": "code",
      "source": [
        "summary(model, (1, 224, 224))"
      ],
      "metadata": {
        "colab": {
          "base_uri": "https://localhost:8080/"
        },
        "id": "NCd4ailKIHNM",
        "outputId": "f9d6fbf0-d517-4046-b030-6dc7743ff641"
      },
      "execution_count": 19,
      "outputs": [
        {
          "output_type": "stream",
          "name": "stdout",
          "text": [
            "----------------------------------------------------------------\n",
            "        Layer (type)               Output Shape         Param #\n",
            "================================================================\n",
            "            Conv2d-1         [-1, 64, 112, 112]           3,136\n",
            "       BatchNorm2d-2         [-1, 64, 112, 112]             128\n",
            "              ReLU-3         [-1, 64, 112, 112]               0\n",
            "         MaxPool2d-4           [-1, 64, 56, 56]               0\n",
            "            Conv2d-5           [-1, 64, 56, 56]          36,864\n",
            "       BatchNorm2d-6           [-1, 64, 56, 56]             128\n",
            "              ReLU-7           [-1, 64, 56, 56]               0\n",
            "            Conv2d-8           [-1, 64, 56, 56]          36,864\n",
            "       BatchNorm2d-9           [-1, 64, 56, 56]             128\n",
            "             ReLU-10           [-1, 64, 56, 56]               0\n",
            "       BasicBlock-11           [-1, 64, 56, 56]               0\n",
            "           Conv2d-12           [-1, 64, 56, 56]          36,864\n",
            "      BatchNorm2d-13           [-1, 64, 56, 56]             128\n",
            "             ReLU-14           [-1, 64, 56, 56]               0\n",
            "           Conv2d-15           [-1, 64, 56, 56]          36,864\n",
            "      BatchNorm2d-16           [-1, 64, 56, 56]             128\n",
            "             ReLU-17           [-1, 64, 56, 56]               0\n",
            "       BasicBlock-18           [-1, 64, 56, 56]               0\n",
            "           Conv2d-19          [-1, 128, 28, 28]          73,728\n",
            "      BatchNorm2d-20          [-1, 128, 28, 28]             256\n",
            "             ReLU-21          [-1, 128, 28, 28]               0\n",
            "           Conv2d-22          [-1, 128, 28, 28]         147,456\n",
            "      BatchNorm2d-23          [-1, 128, 28, 28]             256\n",
            "           Conv2d-24          [-1, 128, 28, 28]           8,192\n",
            "      BatchNorm2d-25          [-1, 128, 28, 28]             256\n",
            "             ReLU-26          [-1, 128, 28, 28]               0\n",
            "       BasicBlock-27          [-1, 128, 28, 28]               0\n",
            "           Conv2d-28          [-1, 128, 28, 28]         147,456\n",
            "      BatchNorm2d-29          [-1, 128, 28, 28]             256\n",
            "             ReLU-30          [-1, 128, 28, 28]               0\n",
            "           Conv2d-31          [-1, 128, 28, 28]         147,456\n",
            "      BatchNorm2d-32          [-1, 128, 28, 28]             256\n",
            "             ReLU-33          [-1, 128, 28, 28]               0\n",
            "       BasicBlock-34          [-1, 128, 28, 28]               0\n",
            "           Conv2d-35         [-1, 64, 112, 112]           3,136\n",
            "      BatchNorm2d-36         [-1, 64, 112, 112]             128\n",
            "             ReLU-37         [-1, 64, 112, 112]               0\n",
            "        MaxPool2d-38           [-1, 64, 56, 56]               0\n",
            "           Conv2d-39           [-1, 64, 56, 56]          36,864\n",
            "      BatchNorm2d-40           [-1, 64, 56, 56]             128\n",
            "             ReLU-41           [-1, 64, 56, 56]               0\n",
            "           Conv2d-42           [-1, 64, 56, 56]          36,864\n",
            "      BatchNorm2d-43           [-1, 64, 56, 56]             128\n",
            "             ReLU-44           [-1, 64, 56, 56]               0\n",
            "       BasicBlock-45           [-1, 64, 56, 56]               0\n",
            "           Conv2d-46           [-1, 64, 56, 56]          36,864\n",
            "      BatchNorm2d-47           [-1, 64, 56, 56]             128\n",
            "             ReLU-48           [-1, 64, 56, 56]               0\n",
            "           Conv2d-49           [-1, 64, 56, 56]          36,864\n",
            "      BatchNorm2d-50           [-1, 64, 56, 56]             128\n",
            "             ReLU-51           [-1, 64, 56, 56]               0\n",
            "       BasicBlock-52           [-1, 64, 56, 56]               0\n",
            "           Conv2d-53          [-1, 128, 28, 28]          73,728\n",
            "      BatchNorm2d-54          [-1, 128, 28, 28]             256\n",
            "             ReLU-55          [-1, 128, 28, 28]               0\n",
            "           Conv2d-56          [-1, 128, 28, 28]         147,456\n",
            "      BatchNorm2d-57          [-1, 128, 28, 28]             256\n",
            "           Conv2d-58          [-1, 128, 28, 28]           8,192\n",
            "      BatchNorm2d-59          [-1, 128, 28, 28]             256\n",
            "             ReLU-60          [-1, 128, 28, 28]               0\n",
            "       BasicBlock-61          [-1, 128, 28, 28]               0\n",
            "           Conv2d-62          [-1, 128, 28, 28]         147,456\n",
            "      BatchNorm2d-63          [-1, 128, 28, 28]             256\n",
            "             ReLU-64          [-1, 128, 28, 28]               0\n",
            "           Conv2d-65          [-1, 128, 28, 28]         147,456\n",
            "      BatchNorm2d-66          [-1, 128, 28, 28]             256\n",
            "             ReLU-67          [-1, 128, 28, 28]               0\n",
            "       BasicBlock-68          [-1, 128, 28, 28]               0\n",
            "           Conv2d-69          [-1, 256, 14, 14]         294,912\n",
            "      BatchNorm2d-70          [-1, 256, 14, 14]             512\n",
            "             ReLU-71          [-1, 256, 14, 14]               0\n",
            "           Conv2d-72          [-1, 256, 14, 14]         589,824\n",
            "      BatchNorm2d-73          [-1, 256, 14, 14]             512\n",
            "           Conv2d-74          [-1, 256, 14, 14]          32,768\n",
            "      BatchNorm2d-75          [-1, 256, 14, 14]             512\n",
            "             ReLU-76          [-1, 256, 14, 14]               0\n",
            "       BasicBlock-77          [-1, 256, 14, 14]               0\n",
            "           Conv2d-78          [-1, 256, 14, 14]         589,824\n",
            "      BatchNorm2d-79          [-1, 256, 14, 14]             512\n",
            "             ReLU-80          [-1, 256, 14, 14]               0\n",
            "           Conv2d-81          [-1, 256, 14, 14]         589,824\n",
            "      BatchNorm2d-82          [-1, 256, 14, 14]             512\n",
            "             ReLU-83          [-1, 256, 14, 14]               0\n",
            "       BasicBlock-84          [-1, 256, 14, 14]               0\n",
            "           Conv2d-85         [-1, 64, 112, 112]           3,136\n",
            "      BatchNorm2d-86         [-1, 64, 112, 112]             128\n",
            "             ReLU-87         [-1, 64, 112, 112]               0\n",
            "        MaxPool2d-88           [-1, 64, 56, 56]               0\n",
            "           Conv2d-89           [-1, 64, 56, 56]          36,864\n",
            "      BatchNorm2d-90           [-1, 64, 56, 56]             128\n",
            "             ReLU-91           [-1, 64, 56, 56]               0\n",
            "           Conv2d-92           [-1, 64, 56, 56]          36,864\n",
            "      BatchNorm2d-93           [-1, 64, 56, 56]             128\n",
            "             ReLU-94           [-1, 64, 56, 56]               0\n",
            "       BasicBlock-95           [-1, 64, 56, 56]               0\n",
            "           Conv2d-96           [-1, 64, 56, 56]          36,864\n",
            "      BatchNorm2d-97           [-1, 64, 56, 56]             128\n",
            "             ReLU-98           [-1, 64, 56, 56]               0\n",
            "           Conv2d-99           [-1, 64, 56, 56]          36,864\n",
            "     BatchNorm2d-100           [-1, 64, 56, 56]             128\n",
            "            ReLU-101           [-1, 64, 56, 56]               0\n",
            "      BasicBlock-102           [-1, 64, 56, 56]               0\n",
            "          Conv2d-103          [-1, 128, 28, 28]          73,728\n",
            "     BatchNorm2d-104          [-1, 128, 28, 28]             256\n",
            "            ReLU-105          [-1, 128, 28, 28]               0\n",
            "          Conv2d-106          [-1, 128, 28, 28]         147,456\n",
            "     BatchNorm2d-107          [-1, 128, 28, 28]             256\n",
            "          Conv2d-108          [-1, 128, 28, 28]           8,192\n",
            "     BatchNorm2d-109          [-1, 128, 28, 28]             256\n",
            "            ReLU-110          [-1, 128, 28, 28]               0\n",
            "      BasicBlock-111          [-1, 128, 28, 28]               0\n",
            "          Conv2d-112          [-1, 128, 28, 28]         147,456\n",
            "     BatchNorm2d-113          [-1, 128, 28, 28]             256\n",
            "            ReLU-114          [-1, 128, 28, 28]               0\n",
            "          Conv2d-115          [-1, 128, 28, 28]         147,456\n",
            "     BatchNorm2d-116          [-1, 128, 28, 28]             256\n",
            "            ReLU-117          [-1, 128, 28, 28]               0\n",
            "      BasicBlock-118          [-1, 128, 28, 28]               0\n",
            "          Conv2d-119          [-1, 256, 14, 14]         294,912\n",
            "     BatchNorm2d-120          [-1, 256, 14, 14]             512\n",
            "            ReLU-121          [-1, 256, 14, 14]               0\n",
            "          Conv2d-122          [-1, 256, 14, 14]         589,824\n",
            "     BatchNorm2d-123          [-1, 256, 14, 14]             512\n",
            "          Conv2d-124          [-1, 256, 14, 14]          32,768\n",
            "     BatchNorm2d-125          [-1, 256, 14, 14]             512\n",
            "            ReLU-126          [-1, 256, 14, 14]               0\n",
            "      BasicBlock-127          [-1, 256, 14, 14]               0\n",
            "          Conv2d-128          [-1, 256, 14, 14]         589,824\n",
            "     BatchNorm2d-129          [-1, 256, 14, 14]             512\n",
            "            ReLU-130          [-1, 256, 14, 14]               0\n",
            "          Conv2d-131          [-1, 256, 14, 14]         589,824\n",
            "     BatchNorm2d-132          [-1, 256, 14, 14]             512\n",
            "            ReLU-133          [-1, 256, 14, 14]               0\n",
            "      BasicBlock-134          [-1, 256, 14, 14]               0\n",
            "          Conv2d-135            [-1, 512, 7, 7]       1,179,648\n",
            "     BatchNorm2d-136            [-1, 512, 7, 7]           1,024\n",
            "            ReLU-137            [-1, 512, 7, 7]               0\n",
            "          Conv2d-138            [-1, 512, 7, 7]       2,359,296\n",
            "     BatchNorm2d-139            [-1, 512, 7, 7]           1,024\n",
            "          Conv2d-140            [-1, 512, 7, 7]         131,072\n",
            "     BatchNorm2d-141            [-1, 512, 7, 7]           1,024\n",
            "            ReLU-142            [-1, 512, 7, 7]               0\n",
            "      BasicBlock-143            [-1, 512, 7, 7]               0\n",
            "          Conv2d-144            [-1, 512, 7, 7]       2,359,296\n",
            "     BatchNorm2d-145            [-1, 512, 7, 7]           1,024\n",
            "            ReLU-146            [-1, 512, 7, 7]               0\n",
            "          Conv2d-147            [-1, 512, 7, 7]       2,359,296\n",
            "     BatchNorm2d-148            [-1, 512, 7, 7]           1,024\n",
            "            ReLU-149            [-1, 512, 7, 7]               0\n",
            "      BasicBlock-150            [-1, 512, 7, 7]               0\n",
            "          Conv2d-151            [-1, 256, 7, 7]         131,328\n",
            "          Conv2d-152          [-1, 256, 14, 14]          65,792\n",
            "          Conv2d-153          [-1, 256, 28, 28]          33,024\n",
            "          Linear-154                   [-1, 10]          40,970\n",
            "================================================================\n",
            "Total params: 14,894,666\n",
            "Trainable params: 14,894,666\n",
            "Non-trainable params: 0\n",
            "----------------------------------------------------------------\n",
            "Input size (MB): 0.19\n",
            "Forward/backward pass size (MB): 178.10\n",
            "Params size (MB): 56.82\n",
            "Estimated Total Size (MB): 235.11\n",
            "----------------------------------------------------------------\n"
          ]
        }
      ]
    },
    {
      "cell_type": "code",
      "source": [
        "# Training Loop\n",
        "num_epochs = 10\n",
        "for epoch in range(num_epochs):\n",
        "    model.train()\n",
        "    running_loss = 0.0\n",
        "    for images, labels in train_loader:\n",
        "        images, labels = images.to(device), labels.to(device)\n",
        "\n",
        "        optimizer.zero_grad()\n",
        "        outputs = model(images)\n",
        "        loss = criterion(outputs, labels)\n",
        "        loss.backward()\n",
        "        optimizer.step()\n",
        "        running_loss += loss.item()\n",
        "\n",
        "    print(f\"Epoch [{epoch+1}/{num_epochs}], Loss: {running_loss/len(train_loader):.4f}\")"
      ],
      "metadata": {
        "colab": {
          "base_uri": "https://localhost:8080/"
        },
        "id": "8qkjk8Stj29D",
        "outputId": "67c7220b-2df3-4a43-d7df-7b24ec2b018d"
      },
      "execution_count": 20,
      "outputs": [
        {
          "output_type": "stream",
          "name": "stdout",
          "text": [
            "Epoch [1/10], Loss: 0.4403\n",
            "Epoch [2/10], Loss: 0.3250\n",
            "Epoch [3/10], Loss: 0.1812\n",
            "Epoch [4/10], Loss: 0.6211\n",
            "Epoch [5/10], Loss: 0.2860\n",
            "Epoch [6/10], Loss: 0.2031\n",
            "Epoch [7/10], Loss: 0.2688\n",
            "Epoch [8/10], Loss: 0.2843\n",
            "Epoch [9/10], Loss: 0.0572\n",
            "Epoch [10/10], Loss: 0.3097\n"
          ]
        }
      ]
    },
    {
      "cell_type": "code",
      "source": [
        "# Model Evaluation\n",
        "model.eval()\n",
        "correct, total = 0, 0\n",
        "with torch.no_grad():\n",
        "    for images, labels in test_loader:\n",
        "        images, labels = images.to(device), labels.to(device)\n",
        "        outputs = model(images)\n",
        "        _, predicted = torch.max(outputs, 1)\n",
        "        total += labels.size(0)\n",
        "        correct += (predicted == labels).sum().item()\n",
        "\n",
        "print(f\"Test Accuracy: {100 * correct / total:.2f}%\")"
      ],
      "metadata": {
        "colab": {
          "base_uri": "https://localhost:8080/"
        },
        "id": "Q7wvlgTAkLv8",
        "outputId": "18b5998c-6c4c-4cf0-ab27-40177f6f4dfe"
      },
      "execution_count": 21,
      "outputs": [
        {
          "output_type": "stream",
          "name": "stdout",
          "text": [
            "Test Accuracy: 98.67%\n"
          ]
        }
      ]
    },
    {
      "cell_type": "code",
      "source": [],
      "metadata": {
        "id": "tLEmKHzak5zd"
      },
      "execution_count": null,
      "outputs": []
    }
  ]
}